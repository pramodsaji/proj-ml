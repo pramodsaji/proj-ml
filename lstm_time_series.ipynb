{
 "cells": [
  {
   "cell_type": "markdown",
   "metadata": {},
   "source": [
    "# LSTM - Time Series"
   ]
  },
  {
   "cell_type": "code",
   "execution_count": 1,
   "metadata": {},
   "outputs": [],
   "source": [
    "import pandas as pd\n",
    "from datetime import datetime\n",
    "from sklearn.model_selection import train_test_split\n",
    "\n",
    "from tensorflow.keras.models import Sequential\n",
    "from tensorflow.keras.layers import LSTM, Dense\n",
    "\n",
    "from utils import *"
   ]
  },
  {
   "cell_type": "code",
   "execution_count": 2,
   "metadata": {},
   "outputs": [
    {
     "data": {
      "text/html": [
       "<div>\n",
       "<style scoped>\n",
       "    .dataframe tbody tr th:only-of-type {\n",
       "        vertical-align: middle;\n",
       "    }\n",
       "\n",
       "    .dataframe tbody tr th {\n",
       "        vertical-align: top;\n",
       "    }\n",
       "\n",
       "    .dataframe thead th {\n",
       "        text-align: right;\n",
       "    }\n",
       "</style>\n",
       "<table border=\"1\" class=\"dataframe\">\n",
       "  <thead>\n",
       "    <tr style=\"text-align: right;\">\n",
       "      <th></th>\n",
       "      <th>Date</th>\n",
       "      <th>TimeOfDay</th>\n",
       "      <th>MenuItem</th>\n",
       "      <th>Quantity</th>\n",
       "    </tr>\n",
       "  </thead>\n",
       "  <tbody>\n",
       "    <tr>\n",
       "      <th>0</th>\n",
       "      <td>2023-01-01</td>\n",
       "      <td>07:00</td>\n",
       "      <td>Chicken Tikka Masala</td>\n",
       "      <td>2</td>\n",
       "    </tr>\n",
       "    <tr>\n",
       "      <th>1</th>\n",
       "      <td>2023-01-01</td>\n",
       "      <td>07:00</td>\n",
       "      <td>Shrimp Scampi</td>\n",
       "      <td>2</td>\n",
       "    </tr>\n",
       "    <tr>\n",
       "      <th>2</th>\n",
       "      <td>2023-01-01</td>\n",
       "      <td>07:00</td>\n",
       "      <td>Chicken Alfredo</td>\n",
       "      <td>3</td>\n",
       "    </tr>\n",
       "    <tr>\n",
       "      <th>3</th>\n",
       "      <td>2023-01-01</td>\n",
       "      <td>07:00</td>\n",
       "      <td>Caesar Salad</td>\n",
       "      <td>1</td>\n",
       "    </tr>\n",
       "    <tr>\n",
       "      <th>4</th>\n",
       "      <td>2023-01-01</td>\n",
       "      <td>07:00</td>\n",
       "      <td>Tiramisu</td>\n",
       "      <td>3</td>\n",
       "    </tr>\n",
       "  </tbody>\n",
       "</table>\n",
       "</div>"
      ],
      "text/plain": [
       "         Date TimeOfDay              MenuItem  Quantity\n",
       "0  2023-01-01     07:00  Chicken Tikka Masala         2\n",
       "1  2023-01-01     07:00         Shrimp Scampi         2\n",
       "2  2023-01-01     07:00       Chicken Alfredo         3\n",
       "3  2023-01-01     07:00          Caesar Salad         1\n",
       "4  2023-01-01     07:00              Tiramisu         3"
      ]
     },
     "execution_count": 2,
     "metadata": {},
     "output_type": "execute_result"
    }
   ],
   "source": [
    "data = pd.read_csv(\"order_data.csv\")\n",
    "data.head()"
   ]
  },
  {
   "cell_type": "code",
   "execution_count": 3,
   "metadata": {},
   "outputs": [],
   "source": [
    "def extract_hour(timestamp):\n",
    "    time_obj = datetime.strptime(timestamp, '%H:%M')\n",
    "    return time_obj.hour\n",
    "\n",
    "# Applying the function to the 'TimeofDay' column to extract hours\n",
    "data['TimeOfDay'] = data['TimeOfDay'].apply(extract_hour)"
   ]
  },
  {
   "cell_type": "code",
   "execution_count": 4,
   "metadata": {},
   "outputs": [],
   "source": [
    "# Convert 'Date' column to datetime format and 'TimeOfDay' to timedelta format\n",
    "data['DateTime'] = pd.to_datetime(data['Date']) + pd.to_timedelta(data['TimeOfDay'], unit='h')"
   ]
  },
  {
   "cell_type": "code",
   "execution_count": 5,
   "metadata": {},
   "outputs": [],
   "source": [
    "# Convert 'Date' column to numeric representation\n",
    "data['Date'] = pd.to_datetime(data['Date'])\n",
    "start_date = data['Date'].min()\n",
    "data['NumericDate'] = (data['Date'] - start_date).dt.days + 1"
   ]
  },
  {
   "cell_type": "code",
   "execution_count": 6,
   "metadata": {},
   "outputs": [],
   "source": [
    "data = data.groupby(['DateTime', 'Date', 'NumericDate', 'MenuItem', 'TimeOfDay']).agg({'Quantity': 'sum'}).reset_index()\n",
    "data.head(5)\n",
    "# Sort the DataFrame by multiple columns\n",
    "data.sort_values(by=['NumericDate', 'MenuItem', 'TimeOfDay'], inplace=True)\n"
   ]
  },
  {
   "cell_type": "code",
   "execution_count": 7,
   "metadata": {},
   "outputs": [
    {
     "data": {
      "text/html": [
       "<div>\n",
       "<style scoped>\n",
       "    .dataframe tbody tr th:only-of-type {\n",
       "        vertical-align: middle;\n",
       "    }\n",
       "\n",
       "    .dataframe tbody tr th {\n",
       "        vertical-align: top;\n",
       "    }\n",
       "\n",
       "    .dataframe thead th {\n",
       "        text-align: right;\n",
       "    }\n",
       "</style>\n",
       "<table border=\"1\" class=\"dataframe\">\n",
       "  <thead>\n",
       "    <tr style=\"text-align: right;\">\n",
       "      <th></th>\n",
       "      <th>DateTime</th>\n",
       "      <th>Date</th>\n",
       "      <th>NumericDate</th>\n",
       "      <th>MenuItem</th>\n",
       "      <th>TimeOfDay</th>\n",
       "      <th>Quantity</th>\n",
       "    </tr>\n",
       "  </thead>\n",
       "  <tbody>\n",
       "    <tr>\n",
       "      <th>0</th>\n",
       "      <td>2023-01-01 07:00:00</td>\n",
       "      <td>2023-01-01</td>\n",
       "      <td>1</td>\n",
       "      <td>1</td>\n",
       "      <td>7</td>\n",
       "      <td>5</td>\n",
       "    </tr>\n",
       "    <tr>\n",
       "      <th>10</th>\n",
       "      <td>2023-01-01 08:00:00</td>\n",
       "      <td>2023-01-01</td>\n",
       "      <td>1</td>\n",
       "      <td>1</td>\n",
       "      <td>8</td>\n",
       "      <td>5</td>\n",
       "    </tr>\n",
       "    <tr>\n",
       "      <th>20</th>\n",
       "      <td>2023-01-01 09:00:00</td>\n",
       "      <td>2023-01-01</td>\n",
       "      <td>1</td>\n",
       "      <td>1</td>\n",
       "      <td>9</td>\n",
       "      <td>3</td>\n",
       "    </tr>\n",
       "    <tr>\n",
       "      <th>30</th>\n",
       "      <td>2023-01-01 10:00:00</td>\n",
       "      <td>2023-01-01</td>\n",
       "      <td>1</td>\n",
       "      <td>1</td>\n",
       "      <td>10</td>\n",
       "      <td>14</td>\n",
       "    </tr>\n",
       "    <tr>\n",
       "      <th>40</th>\n",
       "      <td>2023-01-01 11:00:00</td>\n",
       "      <td>2023-01-01</td>\n",
       "      <td>1</td>\n",
       "      <td>1</td>\n",
       "      <td>11</td>\n",
       "      <td>15</td>\n",
       "    </tr>\n",
       "  </tbody>\n",
       "</table>\n",
       "</div>"
      ],
      "text/plain": [
       "              DateTime       Date  NumericDate  MenuItem  TimeOfDay  Quantity\n",
       "0  2023-01-01 07:00:00 2023-01-01            1         1          7         5\n",
       "10 2023-01-01 08:00:00 2023-01-01            1         1          8         5\n",
       "20 2023-01-01 09:00:00 2023-01-01            1         1          9         3\n",
       "30 2023-01-01 10:00:00 2023-01-01            1         1         10        14\n",
       "40 2023-01-01 11:00:00 2023-01-01            1         1         11        15"
      ]
     },
     "execution_count": 7,
     "metadata": {},
     "output_type": "execute_result"
    }
   ],
   "source": [
    "categorical_columns = ['MenuItem']\n",
    "data = encodeLabels(data, categorical_columns)\n",
    "data.head()"
   ]
  },
  {
   "cell_type": "code",
   "execution_count": 8,
   "metadata": {},
   "outputs": [],
   "source": [
    "n_features = 3\n",
    "epochs = 25\n",
    "batch_size = 32"
   ]
  },
  {
   "cell_type": "code",
   "execution_count": 9,
   "metadata": {},
   "outputs": [],
   "source": [
    "X, y = create_sequence(data)\n",
    "\n",
    "X_reshaped = X.reshape(X.shape[0], X.shape[1], n_features)"
   ]
  },
  {
   "cell_type": "code",
   "execution_count": 10,
   "metadata": {},
   "outputs": [],
   "source": [
    "# Splitting the data into training and testing sets\n",
    "X_train, X_test, y_train, y_test = train_test_split(X_reshaped, y, test_size=0.4, shuffle=False)"
   ]
  },
  {
   "cell_type": "code",
   "execution_count": 11,
   "metadata": {},
   "outputs": [
    {
     "name": "stderr",
     "output_type": "stream",
     "text": [
      "2023-11-26 20:58:28.483883: I metal_plugin/src/device/metal_device.cc:1154] Metal device set to: Apple M1 Pro\n",
      "2023-11-26 20:58:28.483908: I metal_plugin/src/device/metal_device.cc:296] systemMemory: 16.00 GB\n",
      "2023-11-26 20:58:28.483914: I metal_plugin/src/device/metal_device.cc:313] maxCacheSize: 5.33 GB\n",
      "2023-11-26 20:58:28.483950: I tensorflow/core/common_runtime/pluggable_device/pluggable_device_factory.cc:303] Could not identify NUMA node of platform GPU ID 0, defaulting to 0. Your kernel may not have been built with NUMA support.\n",
      "2023-11-26 20:58:28.483965: I tensorflow/core/common_runtime/pluggable_device/pluggable_device_factory.cc:269] Created TensorFlow device (/job:localhost/replica:0/task:0/device:GPU:0 with 0 MB memory) -> physical PluggableDevice (device: 0, name: METAL, pci bus id: <undefined>)\n"
     ]
    },
    {
     "name": "stdout",
     "output_type": "stream",
     "text": [
      "Epoch 1/25\n"
     ]
    },
    {
     "name": "stderr",
     "output_type": "stream",
     "text": [
      "2023-11-26 20:58:29.473644: I tensorflow/core/grappler/optimizers/custom_graph_optimizer_registry.cc:114] Plugin optimizer for device_type GPU is enabled.\n",
      "2023-11-26 20:58:29.688281: I tensorflow/core/grappler/optimizers/custom_graph_optimizer_registry.cc:114] Plugin optimizer for device_type GPU is enabled.\n",
      "2023-11-26 20:58:29.753347: I tensorflow/core/grappler/optimizers/custom_graph_optimizer_registry.cc:114] Plugin optimizer for device_type GPU is enabled.\n",
      "2023-11-26 20:58:29.868772: I tensorflow/core/grappler/optimizers/custom_graph_optimizer_registry.cc:114] Plugin optimizer for device_type GPU is enabled.\n"
     ]
    },
    {
     "name": "stdout",
     "output_type": "stream",
     "text": [
      "  5/752 [..............................] - ETA: 11s - loss: 145.2747  "
     ]
    },
    {
     "name": "stderr",
     "output_type": "stream",
     "text": [
      "2023-11-26 20:58:29.980365: I tensorflow/core/grappler/optimizers/custom_graph_optimizer_registry.cc:114] Plugin optimizer for device_type GPU is enabled.\n"
     ]
    },
    {
     "name": "stdout",
     "output_type": "stream",
     "text": [
      "752/752 [==============================] - 12s 14ms/step - loss: 60.2455\n",
      "Epoch 2/25\n",
      "752/752 [==============================] - 10s 13ms/step - loss: 52.8862\n",
      "Epoch 3/25\n",
      "752/752 [==============================] - 10s 14ms/step - loss: 50.5233\n",
      "Epoch 4/25\n",
      "752/752 [==============================] - 10s 14ms/step - loss: 48.5217\n",
      "Epoch 5/25\n",
      "752/752 [==============================] - 10s 13ms/step - loss: 48.2551\n",
      "Epoch 6/25\n",
      "752/752 [==============================] - 10s 13ms/step - loss: 46.3697\n",
      "Epoch 7/25\n",
      "752/752 [==============================] - 10s 14ms/step - loss: 46.0765\n",
      "Epoch 8/25\n",
      "752/752 [==============================] - 10s 14ms/step - loss: 45.4631\n",
      "Epoch 9/25\n",
      "752/752 [==============================] - 10s 14ms/step - loss: 44.3522\n",
      "Epoch 10/25\n",
      "752/752 [==============================] - 10s 14ms/step - loss: 41.6685\n",
      "Epoch 11/25\n",
      "752/752 [==============================] - 10s 14ms/step - loss: 40.6664\n",
      "Epoch 12/25\n",
      "752/752 [==============================] - 10s 14ms/step - loss: 39.1915\n",
      "Epoch 13/25\n",
      "752/752 [==============================] - 10s 14ms/step - loss: 37.6794\n",
      "Epoch 14/25\n",
      "752/752 [==============================] - 10s 14ms/step - loss: 37.9009\n",
      "Epoch 15/25\n",
      "752/752 [==============================] - 10s 14ms/step - loss: 38.1423\n",
      "Epoch 16/25\n",
      "752/752 [==============================] - 10s 14ms/step - loss: 36.8095\n",
      "Epoch 17/25\n",
      "752/752 [==============================] - 10s 14ms/step - loss: 36.4824\n",
      "Epoch 18/25\n",
      "752/752 [==============================] - 10s 14ms/step - loss: 34.8383\n",
      "Epoch 19/25\n",
      "752/752 [==============================] - 10s 14ms/step - loss: 33.1844\n",
      "Epoch 20/25\n",
      "752/752 [==============================] - 10s 14ms/step - loss: 30.6151\n",
      "Epoch 21/25\n",
      "752/752 [==============================] - 10s 14ms/step - loss: 25.8543\n",
      "Epoch 22/25\n",
      "752/752 [==============================] - 10s 14ms/step - loss: 22.5173\n",
      "Epoch 23/25\n",
      "752/752 [==============================] - 10s 14ms/step - loss: 18.4117\n",
      "Epoch 24/25\n",
      "752/752 [==============================] - 10s 14ms/step - loss: 13.7663\n",
      "Epoch 25/25\n",
      "752/752 [==============================] - 10s 14ms/step - loss: 9.1164\n"
     ]
    },
    {
     "data": {
      "text/plain": [
       "<keras.src.callbacks.History at 0x289d37400>"
      ]
     },
     "execution_count": 11,
     "metadata": {},
     "output_type": "execute_result"
    }
   ],
   "source": [
    "\n",
    "# Build the LSTM model\n",
    "model = Sequential()\n",
    "model.add(LSTM(units=50, return_sequences=True, input_shape=(X_train.shape[1], X_train.shape[2])))\n",
    "model.add(LSTM(units=50))\n",
    "model.add(Dense(units=1))  # Output layer\n",
    "\n",
    "model.compile(optimizer='adam', loss='mean_squared_error')\n",
    "\n",
    "# Train the LSTM model\n",
    "model.fit(X_train, y_train, epochs=epochs, batch_size=batch_size)\n"
   ]
  },
  {
   "cell_type": "code",
   "execution_count": 17,
   "metadata": {},
   "outputs": [
    {
     "name": "stdout",
     "output_type": "stream",
     "text": [
      "501/501 [==============================] - 2s 5ms/step\n"
     ]
    }
   ],
   "source": [
    "predictions = model.predict(X_test)"
   ]
  },
  {
   "cell_type": "code",
   "execution_count": 18,
   "metadata": {},
   "outputs": [
    {
     "name": "stdout",
     "output_type": "stream",
     "text": [
      "501/501 [==============================] - 3s 6ms/step - loss: 7.7725\n",
      "Model Performance\n",
      "Score: 7.77250862121582\n",
      "Mean Squared Error (MSE): 7.7725068668946715\n",
      "Root Mean Squared Error (RMSE): 2.7879216034341194\n",
      "Mean Absolute Error (MAE): 2.167767821224648\n",
      "R-squared (R2): 0.8668005814879898\n"
     ]
    }
   ],
   "source": [
    "evaluate(model, predictions, X_test, y_test, True)"
   ]
  },
  {
   "cell_type": "code",
   "execution_count": 19,
   "metadata": {},
   "outputs": [],
   "source": [
    "# Save the model\n",
    "model.save(\"lstm_time-series_model.keras\")"
   ]
  },
  {
   "cell_type": "code",
   "execution_count": 20,
   "metadata": {},
   "outputs": [
    {
     "name": "stdout",
     "output_type": "stream",
     "text": [
      "1/1 [==============================] - 0s 16ms/step\n"
     ]
    }
   ],
   "source": [
    "# Day 201, Menu Item 5\n",
    "test_X = X_test[0:12]\n",
    "test_y = y_test[0:12]\n",
    "\n",
    "# Make predictions\n",
    "test_pred = model.predict(test_X)"
   ]
  },
  {
   "cell_type": "code",
   "execution_count": 21,
   "metadata": {},
   "outputs": [],
   "source": [
    "time = [10, 11, 12, 13, 14, 15, 16, 17, 18, 19, 20, 21]"
   ]
  },
  {
   "cell_type": "code",
   "execution_count": 22,
   "metadata": {},
   "outputs": [
    {
     "data": {
      "image/png": "[encoded data removed]",
      "text/plain": [
       "<Figure size 1000x600 with 1 Axes>"
      ]
     },
     "metadata": {},
     "output_type": "display_data"
    }
   ],
   "source": [
    "import matplotlib.pyplot as plt\n",
    "import pandas as pd\n",
    "\n",
    "plt.figure(figsize=(10, 6))\n",
    "plt.plot(time, test_y, marker='o', linestyle='-', label='Actual')\n",
    "plt.plot(time, test_pred, marker='o', linestyle='-', label='Predicted')\n",
    "plt.xlabel('Hour')\n",
    "plt.ylabel('Quantity')\n",
    "plt.title(f'Day 201, Menu Item 5 - 10 A.M to 9 P.M')\n",
    "plt.legend()\n",
    "plt.xticks(rotation=45)\n",
    "plt.tight_layout()\n",
    "plt.show()\n"
   ]
  }
 ],
 "metadata": {
  "kernelspec": {
   "display_name": "tensorflow_metal",
   "language": "python",
   "name": "python3"
  },
  "language_info": {
   "codemirror_mode": {
    "name": "ipython",
    "version": 3
   },
   "file_extension": ".py",
   "mimetype": "text/x-python",
   "name": "python",
   "nbconvert_exporter": "python",
   "pygments_lexer": "ipython3",
   "version": "3.10.13"
  }
 },
 "nbformat": 4,
 "nbformat_minor": 2
}
