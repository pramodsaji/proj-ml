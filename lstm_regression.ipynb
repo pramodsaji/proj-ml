{
 "cells": [
  {
   "cell_type": "code",
   "execution_count": 11,
   "metadata": {},
   "outputs": [],
   "source": [
    "import pandas as pd\n",
    "from datetime import datetime\n",
    "import os\n",
    "\n",
    "from utils import *"
   ]
  },
  {
   "cell_type": "code",
   "execution_count": 12,
   "metadata": {},
   "outputs": [],
   "source": [
    "os.environ['TF_CPP_MIN_LOG_LEVEL'] = '2'\n",
    "os.environ['TF_CPP_MIN_LOG_LEVEL'] = '3'"
   ]
  },
  {
   "cell_type": "code",
   "execution_count": 13,
   "metadata": {},
   "outputs": [
    {
     "data": {
      "text/html": [
       "<div>\n",
       "<style scoped>\n",
       "    .dataframe tbody tr th:only-of-type {\n",
       "        vertical-align: middle;\n",
       "    }\n",
       "\n",
       "    .dataframe tbody tr th {\n",
       "        vertical-align: top;\n",
       "    }\n",
       "\n",
       "    .dataframe thead th {\n",
       "        text-align: right;\n",
       "    }\n",
       "</style>\n",
       "<table border=\"1\" class=\"dataframe\">\n",
       "  <thead>\n",
       "    <tr style=\"text-align: right;\">\n",
       "      <th></th>\n",
       "      <th>Date</th>\n",
       "      <th>TimeOfDay</th>\n",
       "      <th>MenuItem</th>\n",
       "      <th>Quantity</th>\n",
       "    </tr>\n",
       "  </thead>\n",
       "  <tbody>\n",
       "    <tr>\n",
       "      <th>0</th>\n",
       "      <td>2023-01-01</td>\n",
       "      <td>07:00</td>\n",
       "      <td>Chicken Tikka Masala</td>\n",
       "      <td>2</td>\n",
       "    </tr>\n",
       "    <tr>\n",
       "      <th>1</th>\n",
       "      <td>2023-01-01</td>\n",
       "      <td>07:00</td>\n",
       "      <td>Shrimp Scampi</td>\n",
       "      <td>2</td>\n",
       "    </tr>\n",
       "    <tr>\n",
       "      <th>2</th>\n",
       "      <td>2023-01-01</td>\n",
       "      <td>07:00</td>\n",
       "      <td>Chicken Alfredo</td>\n",
       "      <td>3</td>\n",
       "    </tr>\n",
       "    <tr>\n",
       "      <th>3</th>\n",
       "      <td>2023-01-01</td>\n",
       "      <td>07:00</td>\n",
       "      <td>Caesar Salad</td>\n",
       "      <td>1</td>\n",
       "    </tr>\n",
       "    <tr>\n",
       "      <th>4</th>\n",
       "      <td>2023-01-01</td>\n",
       "      <td>07:00</td>\n",
       "      <td>Tiramisu</td>\n",
       "      <td>3</td>\n",
       "    </tr>\n",
       "  </tbody>\n",
       "</table>\n",
       "</div>"
      ],
      "text/plain": [
       "         Date TimeOfDay              MenuItem  Quantity\n",
       "0  2023-01-01     07:00  Chicken Tikka Masala         2\n",
       "1  2023-01-01     07:00         Shrimp Scampi         2\n",
       "2  2023-01-01     07:00       Chicken Alfredo         3\n",
       "3  2023-01-01     07:00          Caesar Salad         1\n",
       "4  2023-01-01     07:00              Tiramisu         3"
      ]
     },
     "execution_count": 13,
     "metadata": {},
     "output_type": "execute_result"
    }
   ],
   "source": [
    "data = pd.read_csv(\"order_data.csv\")\n",
    "data.head()"
   ]
  },
  {
   "cell_type": "code",
   "execution_count": 14,
   "metadata": {},
   "outputs": [],
   "source": [
    "def extract_hour(timestamp):\n",
    "    time_obj = datetime.strptime(timestamp, '%H:%M')\n",
    "    return time_obj.hour\n",
    "\n",
    "# Applying the function to the 'TimeofDay' column to extract hours\n",
    "data['TimeOfDay'] = data['TimeOfDay'].apply(extract_hour)"
   ]
  },
  {
   "cell_type": "code",
   "execution_count": 15,
   "metadata": {},
   "outputs": [],
   "source": [
    "# Convert 'Date' column to datetime format and 'TimeOfDay' to timedelta format\n",
    "data['DateTime'] = pd.to_datetime(data['Date']) + pd.to_timedelta(data['TimeOfDay'], unit='h')"
   ]
  },
  {
   "cell_type": "code",
   "execution_count": 16,
   "metadata": {},
   "outputs": [],
   "source": [
    "# Convert 'Date' column to numeric representation\n",
    "data['Date'] = pd.to_datetime(data['Date'])\n",
    "start_date = data['Date'].min()\n",
    "data['NumericDate'] = (data['Date'] - start_date).dt.days + 1"
   ]
  },
  {
   "cell_type": "code",
   "execution_count": 17,
   "metadata": {},
   "outputs": [
    {
     "data": {
      "text/html": [
       "<div>\n",
       "<style scoped>\n",
       "    .dataframe tbody tr th:only-of-type {\n",
       "        vertical-align: middle;\n",
       "    }\n",
       "\n",
       "    .dataframe tbody tr th {\n",
       "        vertical-align: top;\n",
       "    }\n",
       "\n",
       "    .dataframe thead th {\n",
       "        text-align: right;\n",
       "    }\n",
       "</style>\n",
       "<table border=\"1\" class=\"dataframe\">\n",
       "  <thead>\n",
       "    <tr style=\"text-align: right;\">\n",
       "      <th></th>\n",
       "      <th>DateTime</th>\n",
       "      <th>Date</th>\n",
       "      <th>NumericDate</th>\n",
       "      <th>TimeOfDay</th>\n",
       "      <th>MenuItem</th>\n",
       "      <th>Quantity</th>\n",
       "    </tr>\n",
       "  </thead>\n",
       "  <tbody>\n",
       "    <tr>\n",
       "      <th>0</th>\n",
       "      <td>2023-01-01 07:00:00</td>\n",
       "      <td>2023-01-01</td>\n",
       "      <td>1</td>\n",
       "      <td>7</td>\n",
       "      <td>Beef Stroganoff</td>\n",
       "      <td>5</td>\n",
       "    </tr>\n",
       "    <tr>\n",
       "      <th>1</th>\n",
       "      <td>2023-01-01 07:00:00</td>\n",
       "      <td>2023-01-01</td>\n",
       "      <td>1</td>\n",
       "      <td>7</td>\n",
       "      <td>Beef Tacos</td>\n",
       "      <td>4</td>\n",
       "    </tr>\n",
       "    <tr>\n",
       "      <th>2</th>\n",
       "      <td>2023-01-01 07:00:00</td>\n",
       "      <td>2023-01-01</td>\n",
       "      <td>1</td>\n",
       "      <td>7</td>\n",
       "      <td>Breakfast Combo</td>\n",
       "      <td>1</td>\n",
       "    </tr>\n",
       "    <tr>\n",
       "      <th>3</th>\n",
       "      <td>2023-01-01 07:00:00</td>\n",
       "      <td>2023-01-01</td>\n",
       "      <td>1</td>\n",
       "      <td>7</td>\n",
       "      <td>Caesar Salad</td>\n",
       "      <td>1</td>\n",
       "    </tr>\n",
       "    <tr>\n",
       "      <th>4</th>\n",
       "      <td>2023-01-01 07:00:00</td>\n",
       "      <td>2023-01-01</td>\n",
       "      <td>1</td>\n",
       "      <td>7</td>\n",
       "      <td>Chicken Alfredo</td>\n",
       "      <td>3</td>\n",
       "    </tr>\n",
       "  </tbody>\n",
       "</table>\n",
       "</div>"
      ],
      "text/plain": [
       "             DateTime       Date  NumericDate  TimeOfDay         MenuItem  \\\n",
       "0 2023-01-01 07:00:00 2023-01-01            1          7  Beef Stroganoff   \n",
       "1 2023-01-01 07:00:00 2023-01-01            1          7       Beef Tacos   \n",
       "2 2023-01-01 07:00:00 2023-01-01            1          7  Breakfast Combo   \n",
       "3 2023-01-01 07:00:00 2023-01-01            1          7     Caesar Salad   \n",
       "4 2023-01-01 07:00:00 2023-01-01            1          7  Chicken Alfredo   \n",
       "\n",
       "   Quantity  \n",
       "0         5  \n",
       "1         4  \n",
       "2         1  \n",
       "3         1  \n",
       "4         3  "
      ]
     },
     "execution_count": 17,
     "metadata": {},
     "output_type": "execute_result"
    }
   ],
   "source": [
    "data = data.groupby(['DateTime', 'Date', 'NumericDate', 'TimeOfDay', 'MenuItem']).agg({'Quantity': 'sum'}).reset_index()\n",
    "data.head(5)"
   ]
  },
  {
   "cell_type": "code",
   "execution_count": 18,
   "metadata": {},
   "outputs": [
    {
     "data": {
      "text/html": [
       "<div>\n",
       "<style scoped>\n",
       "    .dataframe tbody tr th:only-of-type {\n",
       "        vertical-align: middle;\n",
       "    }\n",
       "\n",
       "    .dataframe tbody tr th {\n",
       "        vertical-align: top;\n",
       "    }\n",
       "\n",
       "    .dataframe thead th {\n",
       "        text-align: right;\n",
       "    }\n",
       "</style>\n",
       "<table border=\"1\" class=\"dataframe\">\n",
       "  <thead>\n",
       "    <tr style=\"text-align: right;\">\n",
       "      <th></th>\n",
       "      <th>DateTime</th>\n",
       "      <th>Date</th>\n",
       "      <th>NumericDate</th>\n",
       "      <th>TimeOfDay</th>\n",
       "      <th>MenuItem</th>\n",
       "      <th>Quantity</th>\n",
       "    </tr>\n",
       "  </thead>\n",
       "  <tbody>\n",
       "    <tr>\n",
       "      <th>0</th>\n",
       "      <td>2023-01-01 07:00:00</td>\n",
       "      <td>2023-01-01</td>\n",
       "      <td>1</td>\n",
       "      <td>7</td>\n",
       "      <td>1</td>\n",
       "      <td>5</td>\n",
       "    </tr>\n",
       "    <tr>\n",
       "      <th>1</th>\n",
       "      <td>2023-01-01 07:00:00</td>\n",
       "      <td>2023-01-01</td>\n",
       "      <td>1</td>\n",
       "      <td>7</td>\n",
       "      <td>2</td>\n",
       "      <td>4</td>\n",
       "    </tr>\n",
       "    <tr>\n",
       "      <th>2</th>\n",
       "      <td>2023-01-01 07:00:00</td>\n",
       "      <td>2023-01-01</td>\n",
       "      <td>1</td>\n",
       "      <td>7</td>\n",
       "      <td>3</td>\n",
       "      <td>1</td>\n",
       "    </tr>\n",
       "    <tr>\n",
       "      <th>3</th>\n",
       "      <td>2023-01-01 07:00:00</td>\n",
       "      <td>2023-01-01</td>\n",
       "      <td>1</td>\n",
       "      <td>7</td>\n",
       "      <td>4</td>\n",
       "      <td>1</td>\n",
       "    </tr>\n",
       "    <tr>\n",
       "      <th>4</th>\n",
       "      <td>2023-01-01 07:00:00</td>\n",
       "      <td>2023-01-01</td>\n",
       "      <td>1</td>\n",
       "      <td>7</td>\n",
       "      <td>5</td>\n",
       "      <td>3</td>\n",
       "    </tr>\n",
       "  </tbody>\n",
       "</table>\n",
       "</div>"
      ],
      "text/plain": [
       "             DateTime       Date  NumericDate  TimeOfDay  MenuItem  Quantity\n",
       "0 2023-01-01 07:00:00 2023-01-01            1          7         1         5\n",
       "1 2023-01-01 07:00:00 2023-01-01            1          7         2         4\n",
       "2 2023-01-01 07:00:00 2023-01-01            1          7         3         1\n",
       "3 2023-01-01 07:00:00 2023-01-01            1          7         4         1\n",
       "4 2023-01-01 07:00:00 2023-01-01            1          7         5         3"
      ]
     },
     "execution_count": 18,
     "metadata": {},
     "output_type": "execute_result"
    }
   ],
   "source": [
    "categorical_columns = ['MenuItem']\n",
    "data = encodeLabels(data, categorical_columns)\n",
    "data.head()"
   ]
  },
  {
   "cell_type": "code",
   "execution_count": 19,
   "metadata": {},
   "outputs": [],
   "source": [
    "X = data[['NumericDate', 'TimeOfDay', 'MenuItem']]\n",
    "y = data['Quantity']"
   ]
  },
  {
   "cell_type": "code",
   "execution_count": 20,
   "metadata": {},
   "outputs": [
    {
     "name": "stdout",
     "output_type": "stream",
     "text": [
      "50100 3\n",
      "Epoch 1/25\n",
      "602/602 [==============================] - 6s 9ms/step - loss: 59.4191\n",
      "Epoch 2/25\n",
      "602/602 [==============================] - 5s 9ms/step - loss: 53.0910\n",
      "Epoch 3/25\n",
      "602/602 [==============================] - 5s 9ms/step - loss: 52.1423\n",
      "Epoch 4/25\n",
      "602/602 [==============================] - 5s 9ms/step - loss: 51.2705\n",
      "Epoch 5/25\n",
      "602/602 [==============================] - 5s 9ms/step - loss: 50.5902\n",
      "Epoch 6/25\n",
      "602/602 [==============================] - 5s 9ms/step - loss: 49.9464\n",
      "Epoch 7/25\n",
      "602/602 [==============================] - 5s 9ms/step - loss: 49.3608\n",
      "Epoch 8/25\n",
      "602/602 [==============================] - 5s 9ms/step - loss: 48.7387\n",
      "Epoch 9/25\n",
      "602/602 [==============================] - 5s 9ms/step - loss: 48.1337\n",
      "Epoch 10/25\n",
      "602/602 [==============================] - 5s 9ms/step - loss: 47.5391\n",
      "Epoch 11/25\n",
      "602/602 [==============================] - 5s 9ms/step - loss: 47.1012\n",
      "Epoch 12/25\n",
      "602/602 [==============================] - 5s 9ms/step - loss: 46.7152\n",
      "Epoch 13/25\n",
      "602/602 [==============================] - 5s 9ms/step - loss: 46.2958\n",
      "Epoch 14/25\n",
      "602/602 [==============================] - 5s 9ms/step - loss: 45.8358\n",
      "Epoch 15/25\n",
      "602/602 [==============================] - 5s 9ms/step - loss: 45.8699\n",
      "Epoch 16/25\n",
      "602/602 [==============================] - 5s 9ms/step - loss: 45.5043\n",
      "Epoch 17/25\n",
      "602/602 [==============================] - 5s 9ms/step - loss: 45.0872\n",
      "Epoch 18/25\n",
      "602/602 [==============================] - 5s 9ms/step - loss: 44.9032\n",
      "Epoch 19/25\n",
      "602/602 [==============================] - 5s 9ms/step - loss: 44.5459\n",
      "Epoch 20/25\n",
      "602/602 [==============================] - 5s 9ms/step - loss: 44.5365\n",
      "Epoch 21/25\n",
      "602/602 [==============================] - 5s 9ms/step - loss: 44.4023\n",
      "Epoch 22/25\n",
      "602/602 [==============================] - 5s 9ms/step - loss: 44.2307\n",
      "Epoch 23/25\n",
      "602/602 [==============================] - 5s 9ms/step - loss: 44.0595\n",
      "Epoch 24/25\n",
      "602/602 [==============================] - 5s 9ms/step - loss: 43.9003\n",
      "Epoch 25/25\n",
      "602/602 [==============================] - 5s 9ms/step - loss: 43.8406\n"
     ]
    },
    {
     "data": {
      "text/plain": [
       "<keras.src.callbacks.History at 0x2a03924a0>"
      ]
     },
     "execution_count": 20,
     "metadata": {},
     "output_type": "execute_result"
    }
   ],
   "source": [
    "import numpy as np\n",
    "from sklearn.model_selection import train_test_split\n",
    "from tensorflow.keras.models import Sequential\n",
    "from tensorflow.keras.layers import LSTM, Dense\n",
    "\n",
    "# Convert X and y to numpy arrays\n",
    "X_array = X.values  # Convert DataFrame to numpy array\n",
    "y_array = y.values\n",
    "print(X_array.shape[0], X_array.shape[1])\n",
    "# Reshape X to match the input shape expected by the LSTM layer\n",
    "X_reshaped = X_array.reshape(X_array.shape[0], 1, X_array.shape[1])\n",
    "\n",
    "# Splitting the data into training and testing sets\n",
    "X_train, X_test, y_train, y_test = train_test_split(X_reshaped, y_array, test_size=0.4, random_state=42)\n",
    "\n",
    "# Define and compile the LSTM model\n",
    "model = Sequential()\n",
    "model.add(LSTM(units=128, activation='tanh', input_shape=(1, 3)))\n",
    "model.add(Dense(units=1))  # Output layer for regression (single value prediction)\n",
    "model.compile(optimizer='adam', loss='mean_squared_error')\n",
    "\n",
    "# Train the model\n",
    "model.fit(X_train, y_train, epochs=25, batch_size=50)"
   ]
  },
  {
   "cell_type": "code",
   "execution_count": 21,
   "metadata": {},
   "outputs": [
    {
     "name": "stdout",
     "output_type": "stream",
     "text": [
      "627/627 [==============================] - 2s 3ms/step\n"
     ]
    }
   ],
   "source": [
    "# Prediction\n",
    "predictions = model.predict(X_test)"
   ]
  },
  {
   "cell_type": "code",
   "execution_count": 22,
   "metadata": {},
   "outputs": [
    {
     "name": "stdout",
     "output_type": "stream",
     "text": [
      "627/627 [==============================] - 3s 5ms/step - loss: 42.5000\n",
      "Model Performance\n",
      "Score: 42.49999237060547\n",
      "Mean Squared Error (MSE): 42.50000076274518\n",
      "Root Mean Squared Error (RMSE): 6.519202463702533\n",
      "Mean Absolute Error (MAE): 5.36771992943891\n",
      "R-squared (R2): 0.24743225322165596\n"
     ]
    }
   ],
   "source": [
    "evaluate(model, predictions, X_test, y_test, True)"
   ]
  },
  {
   "cell_type": "code",
   "execution_count": 23,
   "metadata": {},
   "outputs": [
    {
     "name": "stdout",
     "output_type": "stream",
     "text": [
      "1/1 [==============================] - 0s 27ms/step\n"
     ]
    },
    {
     "data": {
      "image/png": "[encoded data removed]",
      "text/plain": [
       "<Figure size 1000x600 with 1 Axes>"
      ]
     },
     "metadata": {},
     "output_type": "display_data"
    }
   ],
   "source": [
    "plot_predictions(model, data, '2023-07-20', 5, None, True)"
   ]
  },
  {
   "cell_type": "code",
   "execution_count": 24,
   "metadata": {},
   "outputs": [],
   "source": [
    "# Save the model\n",
    "model.save(\"adam_25_epochs_tanh.keras\")"
   ]
  }
 ],
 "metadata": {
  "kernelspec": {
   "display_name": "tensorflow_metal",
   "language": "python",
   "name": "python3"
  },
  "language_info": {
   "codemirror_mode": {
    "name": "ipython",
    "version": 3
   },
   "file_extension": ".py",
   "mimetype": "text/x-python",
   "name": "python",
   "nbconvert_exporter": "python",
   "pygments_lexer": "ipython3",
   "version": "3.10.13"
  }
 },
 "nbformat": 4,
 "nbformat_minor": 2
}
