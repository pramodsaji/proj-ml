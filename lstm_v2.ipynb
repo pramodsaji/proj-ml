{
 "cells": [
  {
   "cell_type": "code",
   "execution_count": 37,
   "metadata": {},
   "outputs": [],
   "source": [
    "import pandas as pd\n",
    "import numpy as np\n",
    "from sklearn.preprocessing import LabelEncoder, MinMaxScaler\n",
    "\n",
    "from datetime import datetime\n",
    "\n",
    "import tensorflow as tf\n",
    "import os"
   ]
  },
  {
   "cell_type": "code",
   "execution_count": 38,
   "metadata": {},
   "outputs": [],
   "source": [
    "os.environ['TF_CPP_MIN_LOG_LEVEL'] = '2'\n",
    "os.environ['TF_CPP_MIN_LOG_LEVEL'] = '3'"
   ]
  },
  {
   "cell_type": "code",
   "execution_count": 39,
   "metadata": {},
   "outputs": [
    {
     "data": {
      "text/html": [
       "<div>\n",
       "<style scoped>\n",
       "    .dataframe tbody tr th:only-of-type {\n",
       "        vertical-align: middle;\n",
       "    }\n",
       "\n",
       "    .dataframe tbody tr th {\n",
       "        vertical-align: top;\n",
       "    }\n",
       "\n",
       "    .dataframe thead th {\n",
       "        text-align: right;\n",
       "    }\n",
       "</style>\n",
       "<table border=\"1\" class=\"dataframe\">\n",
       "  <thead>\n",
       "    <tr style=\"text-align: right;\">\n",
       "      <th></th>\n",
       "      <th>Date</th>\n",
       "      <th>TimeOfDay</th>\n",
       "      <th>MenuItem</th>\n",
       "      <th>Quantity</th>\n",
       "    </tr>\n",
       "  </thead>\n",
       "  <tbody>\n",
       "    <tr>\n",
       "      <th>0</th>\n",
       "      <td>2023-01-01</td>\n",
       "      <td>07:00</td>\n",
       "      <td>Chicken Tikka Masala</td>\n",
       "      <td>2</td>\n",
       "    </tr>\n",
       "    <tr>\n",
       "      <th>1</th>\n",
       "      <td>2023-01-01</td>\n",
       "      <td>07:00</td>\n",
       "      <td>Shrimp Scampi</td>\n",
       "      <td>2</td>\n",
       "    </tr>\n",
       "    <tr>\n",
       "      <th>2</th>\n",
       "      <td>2023-01-01</td>\n",
       "      <td>07:00</td>\n",
       "      <td>Chicken Alfredo</td>\n",
       "      <td>3</td>\n",
       "    </tr>\n",
       "    <tr>\n",
       "      <th>3</th>\n",
       "      <td>2023-01-01</td>\n",
       "      <td>07:00</td>\n",
       "      <td>Caesar Salad</td>\n",
       "      <td>1</td>\n",
       "    </tr>\n",
       "    <tr>\n",
       "      <th>4</th>\n",
       "      <td>2023-01-01</td>\n",
       "      <td>07:00</td>\n",
       "      <td>Tiramisu</td>\n",
       "      <td>3</td>\n",
       "    </tr>\n",
       "  </tbody>\n",
       "</table>\n",
       "</div>"
      ],
      "text/plain": [
       "         Date TimeOfDay              MenuItem  Quantity\n",
       "0  2023-01-01     07:00  Chicken Tikka Masala         2\n",
       "1  2023-01-01     07:00         Shrimp Scampi         2\n",
       "2  2023-01-01     07:00       Chicken Alfredo         3\n",
       "3  2023-01-01     07:00          Caesar Salad         1\n",
       "4  2023-01-01     07:00              Tiramisu         3"
      ]
     },
     "execution_count": 39,
     "metadata": {},
     "output_type": "execute_result"
    }
   ],
   "source": [
    "data = pd.read_csv(\"order_data.csv\")\n",
    "data.head()"
   ]
  },
  {
   "cell_type": "code",
   "execution_count": 40,
   "metadata": {},
   "outputs": [],
   "source": [
    "def extract_hour(timestamp):\n",
    "    time_obj = datetime.strptime(timestamp, '%H:%M')\n",
    "    return time_obj.hour\n",
    "\n",
    "# Applying the function to the 'TimeofDay' column to extract hours\n",
    "data['TimeOfDay'] = data['TimeOfDay'].apply(extract_hour)"
   ]
  },
  {
   "cell_type": "code",
   "execution_count": 41,
   "metadata": {},
   "outputs": [],
   "source": [
    "# Convert 'Date' column to datetime format and 'TimeOfDay' to timedelta format\n",
    "data['DateTime'] = pd.to_datetime(data['Date']) + pd.to_timedelta(data['TimeOfDay'], unit='h')"
   ]
  },
  {
   "cell_type": "code",
   "execution_count": 42,
   "metadata": {},
   "outputs": [],
   "source": [
    "# Convert 'Date' column to numeric representation\n",
    "data['Date'] = pd.to_datetime(data['Date'])\n",
    "start_date = data['Date'].min()\n",
    "data['NumericDate'] = (data['Date'] - start_date).dt.days + 1"
   ]
  },
  {
   "cell_type": "code",
   "execution_count": 43,
   "metadata": {},
   "outputs": [
    {
     "data": {
      "text/html": [
       "<div>\n",
       "<style scoped>\n",
       "    .dataframe tbody tr th:only-of-type {\n",
       "        vertical-align: middle;\n",
       "    }\n",
       "\n",
       "    .dataframe tbody tr th {\n",
       "        vertical-align: top;\n",
       "    }\n",
       "\n",
       "    .dataframe thead th {\n",
       "        text-align: right;\n",
       "    }\n",
       "</style>\n",
       "<table border=\"1\" class=\"dataframe\">\n",
       "  <thead>\n",
       "    <tr style=\"text-align: right;\">\n",
       "      <th></th>\n",
       "      <th>DateTime</th>\n",
       "      <th>Date</th>\n",
       "      <th>NumericDate</th>\n",
       "      <th>TimeOfDay</th>\n",
       "      <th>MenuItem</th>\n",
       "      <th>Quantity</th>\n",
       "    </tr>\n",
       "  </thead>\n",
       "  <tbody>\n",
       "    <tr>\n",
       "      <th>0</th>\n",
       "      <td>2023-01-01 07:00:00</td>\n",
       "      <td>2023-01-01</td>\n",
       "      <td>1</td>\n",
       "      <td>7</td>\n",
       "      <td>Beef Stroganoff</td>\n",
       "      <td>5</td>\n",
       "    </tr>\n",
       "    <tr>\n",
       "      <th>1</th>\n",
       "      <td>2023-01-01 07:00:00</td>\n",
       "      <td>2023-01-01</td>\n",
       "      <td>1</td>\n",
       "      <td>7</td>\n",
       "      <td>Beef Tacos</td>\n",
       "      <td>4</td>\n",
       "    </tr>\n",
       "    <tr>\n",
       "      <th>2</th>\n",
       "      <td>2023-01-01 07:00:00</td>\n",
       "      <td>2023-01-01</td>\n",
       "      <td>1</td>\n",
       "      <td>7</td>\n",
       "      <td>Breakfast Combo</td>\n",
       "      <td>1</td>\n",
       "    </tr>\n",
       "    <tr>\n",
       "      <th>3</th>\n",
       "      <td>2023-01-01 07:00:00</td>\n",
       "      <td>2023-01-01</td>\n",
       "      <td>1</td>\n",
       "      <td>7</td>\n",
       "      <td>Caesar Salad</td>\n",
       "      <td>1</td>\n",
       "    </tr>\n",
       "    <tr>\n",
       "      <th>4</th>\n",
       "      <td>2023-01-01 07:00:00</td>\n",
       "      <td>2023-01-01</td>\n",
       "      <td>1</td>\n",
       "      <td>7</td>\n",
       "      <td>Chicken Alfredo</td>\n",
       "      <td>3</td>\n",
       "    </tr>\n",
       "  </tbody>\n",
       "</table>\n",
       "</div>"
      ],
      "text/plain": [
       "             DateTime       Date  NumericDate  TimeOfDay         MenuItem  \\\n",
       "0 2023-01-01 07:00:00 2023-01-01            1          7  Beef Stroganoff   \n",
       "1 2023-01-01 07:00:00 2023-01-01            1          7       Beef Tacos   \n",
       "2 2023-01-01 07:00:00 2023-01-01            1          7  Breakfast Combo   \n",
       "3 2023-01-01 07:00:00 2023-01-01            1          7     Caesar Salad   \n",
       "4 2023-01-01 07:00:00 2023-01-01            1          7  Chicken Alfredo   \n",
       "\n",
       "   Quantity  \n",
       "0         5  \n",
       "1         4  \n",
       "2         1  \n",
       "3         1  \n",
       "4         3  "
      ]
     },
     "execution_count": 43,
     "metadata": {},
     "output_type": "execute_result"
    }
   ],
   "source": [
    "data = data.groupby(['DateTime', 'Date', 'NumericDate', 'TimeOfDay', 'MenuItem']).agg({'Quantity': 'sum'}).reset_index()\n",
    "data.head(5)"
   ]
  },
  {
   "cell_type": "code",
   "execution_count": 44,
   "metadata": {},
   "outputs": [
    {
     "data": {
      "text/html": [
       "<div>\n",
       "<style scoped>\n",
       "    .dataframe tbody tr th:only-of-type {\n",
       "        vertical-align: middle;\n",
       "    }\n",
       "\n",
       "    .dataframe tbody tr th {\n",
       "        vertical-align: top;\n",
       "    }\n",
       "\n",
       "    .dataframe thead th {\n",
       "        text-align: right;\n",
       "    }\n",
       "</style>\n",
       "<table border=\"1\" class=\"dataframe\">\n",
       "  <thead>\n",
       "    <tr style=\"text-align: right;\">\n",
       "      <th></th>\n",
       "      <th>DateTime</th>\n",
       "      <th>Date</th>\n",
       "      <th>NumericDate</th>\n",
       "      <th>TimeOfDay</th>\n",
       "      <th>MenuItem</th>\n",
       "      <th>Quantity</th>\n",
       "    </tr>\n",
       "  </thead>\n",
       "  <tbody>\n",
       "    <tr>\n",
       "      <th>0</th>\n",
       "      <td>2023-01-01 07:00:00</td>\n",
       "      <td>2023-01-01</td>\n",
       "      <td>1</td>\n",
       "      <td>7</td>\n",
       "      <td>1</td>\n",
       "      <td>5</td>\n",
       "    </tr>\n",
       "    <tr>\n",
       "      <th>1</th>\n",
       "      <td>2023-01-01 07:00:00</td>\n",
       "      <td>2023-01-01</td>\n",
       "      <td>1</td>\n",
       "      <td>7</td>\n",
       "      <td>2</td>\n",
       "      <td>4</td>\n",
       "    </tr>\n",
       "    <tr>\n",
       "      <th>2</th>\n",
       "      <td>2023-01-01 07:00:00</td>\n",
       "      <td>2023-01-01</td>\n",
       "      <td>1</td>\n",
       "      <td>7</td>\n",
       "      <td>3</td>\n",
       "      <td>1</td>\n",
       "    </tr>\n",
       "    <tr>\n",
       "      <th>3</th>\n",
       "      <td>2023-01-01 07:00:00</td>\n",
       "      <td>2023-01-01</td>\n",
       "      <td>1</td>\n",
       "      <td>7</td>\n",
       "      <td>4</td>\n",
       "      <td>1</td>\n",
       "    </tr>\n",
       "    <tr>\n",
       "      <th>4</th>\n",
       "      <td>2023-01-01 07:00:00</td>\n",
       "      <td>2023-01-01</td>\n",
       "      <td>1</td>\n",
       "      <td>7</td>\n",
       "      <td>5</td>\n",
       "      <td>3</td>\n",
       "    </tr>\n",
       "  </tbody>\n",
       "</table>\n",
       "</div>"
      ],
      "text/plain": [
       "             DateTime       Date  NumericDate  TimeOfDay  MenuItem  Quantity\n",
       "0 2023-01-01 07:00:00 2023-01-01            1          7         1         5\n",
       "1 2023-01-01 07:00:00 2023-01-01            1          7         2         4\n",
       "2 2023-01-01 07:00:00 2023-01-01            1          7         3         1\n",
       "3 2023-01-01 07:00:00 2023-01-01            1          7         4         1\n",
       "4 2023-01-01 07:00:00 2023-01-01            1          7         5         3"
      ]
     },
     "execution_count": 44,
     "metadata": {},
     "output_type": "execute_result"
    }
   ],
   "source": [
    "label_encoders = {}\n",
    "categorical_columns = ['MenuItem']\n",
    "\n",
    "for col in categorical_columns:\n",
    "    label_encoders[col] = LabelEncoder()\n",
    "    data[col] = label_encoders[col].fit_transform(data[col]) + 1\n",
    "\n",
    "data.head()"
   ]
  },
  {
   "cell_type": "code",
   "execution_count": 45,
   "metadata": {},
   "outputs": [],
   "source": [
    "X = data[['NumericDate', 'TimeOfDay', 'MenuItem']]\n",
    "y = data['Quantity']"
   ]
  },
  {
   "cell_type": "code",
   "execution_count": 46,
   "metadata": {},
   "outputs": [
    {
     "name": "stdout",
     "output_type": "stream",
     "text": [
      "50100 3\n",
      "Epoch 1/50\n",
      "602/602 [==============================] - 7s 10ms/step - loss: 57.8557\n",
      "Epoch 2/50\n",
      "602/602 [==============================] - 6s 9ms/step - loss: 52.8928\n",
      "Epoch 3/50\n",
      "602/602 [==============================] - 6s 9ms/step - loss: 51.7791\n",
      "Epoch 4/50\n",
      "602/602 [==============================] - 6s 10ms/step - loss: 51.1324\n",
      "Epoch 5/50\n",
      "602/602 [==============================] - 6s 9ms/step - loss: 50.3709\n",
      "Epoch 6/50\n",
      "602/602 [==============================] - 6s 9ms/step - loss: 49.6607\n",
      "Epoch 7/50\n",
      "602/602 [==============================] - 6s 9ms/step - loss: 48.9018\n",
      "Epoch 8/50\n",
      "602/602 [==============================] - 5s 9ms/step - loss: 48.1530\n",
      "Epoch 9/50\n",
      "602/602 [==============================] - 5s 9ms/step - loss: 47.5244\n",
      "Epoch 10/50\n",
      "602/602 [==============================] - 5s 9ms/step - loss: 47.2141\n",
      "Epoch 11/50\n",
      "602/602 [==============================] - 6s 9ms/step - loss: 46.4327\n",
      "Epoch 12/50\n",
      "602/602 [==============================] - 6s 9ms/step - loss: 46.2414\n",
      "Epoch 13/50\n",
      "602/602 [==============================] - 5s 9ms/step - loss: 45.7449\n",
      "Epoch 14/50\n",
      "602/602 [==============================] - 5s 9ms/step - loss: 45.2070\n",
      "Epoch 15/50\n",
      "602/602 [==============================] - 5s 9ms/step - loss: 44.8178\n",
      "Epoch 16/50\n",
      "602/602 [==============================] - 5s 9ms/step - loss: 44.5763\n",
      "Epoch 17/50\n",
      "602/602 [==============================] - 5s 9ms/step - loss: 44.3258\n",
      "Epoch 18/50\n",
      "602/602 [==============================] - 5s 9ms/step - loss: 44.0520\n",
      "Epoch 19/50\n",
      "602/602 [==============================] - 5s 9ms/step - loss: 43.6376\n",
      "Epoch 20/50\n",
      "602/602 [==============================] - 5s 9ms/step - loss: 43.5670\n",
      "Epoch 21/50\n",
      "602/602 [==============================] - 5s 9ms/step - loss: 43.1314\n",
      "Epoch 22/50\n",
      "602/602 [==============================] - 5s 9ms/step - loss: 42.9171\n",
      "Epoch 23/50\n",
      "602/602 [==============================] - 5s 9ms/step - loss: 42.5732\n",
      "Epoch 24/50\n",
      "602/602 [==============================] - 5s 9ms/step - loss: 42.3376\n",
      "Epoch 25/50\n",
      "602/602 [==============================] - 5s 9ms/step - loss: 42.1130\n",
      "Epoch 26/50\n",
      "602/602 [==============================] - 6s 9ms/step - loss: 41.5628\n",
      "Epoch 27/50\n",
      "602/602 [==============================] - 5s 9ms/step - loss: 41.3746\n",
      "Epoch 28/50\n",
      "602/602 [==============================] - 6s 9ms/step - loss: 41.0085\n",
      "Epoch 29/50\n",
      "602/602 [==============================] - 6s 9ms/step - loss: 40.6672\n",
      "Epoch 30/50\n",
      "602/602 [==============================] - 6s 10ms/step - loss: 40.1967\n",
      "Epoch 31/50\n",
      "602/602 [==============================] - 6s 9ms/step - loss: 39.7526\n",
      "Epoch 32/50\n",
      "602/602 [==============================] - 5s 9ms/step - loss: 39.1805\n",
      "Epoch 33/50\n",
      "602/602 [==============================] - 5s 9ms/step - loss: 39.0469\n",
      "Epoch 34/50\n",
      "602/602 [==============================] - 5s 9ms/step - loss: 38.5364\n",
      "Epoch 35/50\n",
      "602/602 [==============================] - 5s 9ms/step - loss: 38.0308\n",
      "Epoch 36/50\n",
      "602/602 [==============================] - 6s 10ms/step - loss: 37.6623\n",
      "Epoch 37/50\n",
      "602/602 [==============================] - 6s 11ms/step - loss: 37.3412\n",
      "Epoch 38/50\n",
      "602/602 [==============================] - 6s 11ms/step - loss: 36.8155\n",
      "Epoch 39/50\n",
      "602/602 [==============================] - 6s 11ms/step - loss: 36.7334\n",
      "Epoch 40/50\n",
      "602/602 [==============================] - 6s 10ms/step - loss: 36.3894\n",
      "Epoch 41/50\n",
      "602/602 [==============================] - 6s 11ms/step - loss: 36.0538\n",
      "Epoch 42/50\n",
      "602/602 [==============================] - 6s 10ms/step - loss: 35.8331\n",
      "Epoch 43/50\n",
      "602/602 [==============================] - 7s 11ms/step - loss: 35.4387\n",
      "Epoch 44/50\n",
      "602/602 [==============================] - 6s 10ms/step - loss: 35.1198\n",
      "Epoch 45/50\n",
      "602/602 [==============================] - 6s 10ms/step - loss: 34.8096\n",
      "Epoch 46/50\n",
      "602/602 [==============================] - 6s 10ms/step - loss: 34.4830\n",
      "Epoch 47/50\n",
      "602/602 [==============================] - 6s 10ms/step - loss: 34.3242\n",
      "Epoch 48/50\n",
      "602/602 [==============================] - 6s 10ms/step - loss: 34.0609\n",
      "Epoch 49/50\n",
      "602/602 [==============================] - 6s 10ms/step - loss: 33.8379\n",
      "Epoch 50/50\n",
      "602/602 [==============================] - 6s 9ms/step - loss: 33.7897\n"
     ]
    },
    {
     "data": {
      "text/plain": [
       "<keras.src.callbacks.History at 0x2c7e72b30>"
      ]
     },
     "execution_count": 46,
     "metadata": {},
     "output_type": "execute_result"
    }
   ],
   "source": [
    "import numpy as np\n",
    "from sklearn.model_selection import train_test_split\n",
    "from tensorflow.keras.models import Sequential\n",
    "from tensorflow.keras.layers import LSTM, Dense\n",
    "\n",
    "# Convert X and y to numpy arrays\n",
    "X_array = X.values  # Convert DataFrame to numpy array\n",
    "y_array = y.values\n",
    "print(X_array.shape[0], X_array.shape[1])\n",
    "# Reshape X to match the input shape expected by the LSTM layer\n",
    "X_reshaped = X_array.reshape(X_array.shape[0], 1, X_array.shape[1])\n",
    "\n",
    "# Splitting the data into training and testing sets\n",
    "X_train, X_test, y_train, y_test = train_test_split(X_reshaped, y_array, test_size=0.4, random_state=42)\n",
    "\n",
    "# Define and compile the LSTM model\n",
    "model = Sequential()\n",
    "model.add(LSTM(units=128, activation='tanh', input_shape=(1, 3)))\n",
    "model.add(Dense(units=1))  # Output layer for regression (single value prediction)\n",
    "model.compile(optimizer='adam', loss='mean_squared_error')\n",
    "\n",
    "# Train the model\n",
    "model.fit(X_train, y_train, epochs=50, batch_size=50)"
   ]
  },
  {
   "cell_type": "code",
   "execution_count": 55,
   "metadata": {},
   "outputs": [
    {
     "name": "stdout",
     "output_type": "stream",
     "text": [
      "627/627 [==============================] - 2s 3ms/step\n"
     ]
    }
   ],
   "source": [
    "# Prediction\n",
    "predicted_values_ = model.predict(X_test)"
   ]
  },
  {
   "cell_type": "code",
   "execution_count": 56,
   "metadata": {},
   "outputs": [
    {
     "name": "stdout",
     "output_type": "stream",
     "text": [
      "Mean Squared Error (MSE): 34.94167345704301\n",
      "Root Mean Squared Error (RMSE): 5.911148235076076\n",
      "Mean Absolute Error (MAE): 4.847113105265086\n",
      "R-squared (R2) for LSTM model: 0.3812711531694333\n"
     ]
    }
   ],
   "source": [
    "mse = mean_squared_error(y_test, predicted_values_)\n",
    "rmse = np.sqrt(mse)\n",
    "mae = mean_absolute_error(y_test, predicted_values_)\n",
    "r2 = r2_score(y_test, predicted_values_)\n",
    "\n",
    "print(\"Before rounding the predictions\")\n",
    "print(\"Mean Squared Error (MSE):\", mse)\n",
    "print(\"Root Mean Squared Error (RMSE):\", rmse)\n",
    "print(\"Mean Absolute Error (MAE):\", mae)\n",
    "print(\"R-squared (R2) for LSTM model:\", r2)"
   ]
  },
  {
   "cell_type": "code",
   "execution_count": 57,
   "metadata": {},
   "outputs": [],
   "source": [
    "predicted_values_ = np.round(predicted_values_)"
   ]
  },
  {
   "cell_type": "code",
   "execution_count": 58,
   "metadata": {},
   "outputs": [
    {
     "name": "stdout",
     "output_type": "stream",
     "text": [
      "Mean Squared Error (MSE): 35.027744510978046\n",
      "Root Mean Squared Error (RMSE): 5.918424157744868\n",
      "Mean Absolute Error (MAE): 4.846007984031936\n",
      "R-squared (R2) for LSTM model: 0.3797470520409574\n"
     ]
    }
   ],
   "source": [
    "from sklearn.metrics import mean_squared_error, mean_absolute_error\n",
    "from sklearn.metrics import r2_score\n",
    "# Calculate Mean Squared Error (MSE)\n",
    "\n",
    "mse = mean_squared_error(y_test, predicted_values_)\n",
    "rmse = np.sqrt(mse)\n",
    "mae = mean_absolute_error(y_test, predicted_values_)\n",
    "r2 = r2_score(y_test, predicted_values_)\n",
    "\n",
    "print(\"After rounding the predictions\")\n",
    "print(\"Mean Squared Error (MSE):\", mse)\n",
    "print(\"Root Mean Squared Error (RMSE):\", rmse)\n",
    "print(\"Mean Absolute Error (MAE):\", mae)\n",
    "print(\"R-squared (R2) for LSTM model:\", r2)"
   ]
  },
  {
   "cell_type": "code",
   "execution_count": 59,
   "metadata": {},
   "outputs": [
    {
     "name": "stdout",
     "output_type": "stream",
     "text": [
      "1/1 [==============================] - 0s 14ms/step\n"
     ]
    },
    {
     "data": {
      "image/png": "[encoded data removed]",
      "text/plain": [
       "<Figure size 1000x600 with 1 Axes>"
      ]
     },
     "metadata": {},
     "output_type": "display_data"
    }
   ],
   "source": [
    "import matplotlib.pyplot as plt\n",
    "import pandas as pd\n",
    "\n",
    "# Assuming 'data' contains your dataset with columns NumericDate, TimeOfDay, MenuItem\n",
    "\n",
    "# Convert 'Date' column to datetime format and 'TimeOfDay' to timedelta format\n",
    "data['DateTime'] = pd.to_datetime(data['Date']) + pd.to_timedelta(data['TimeOfDay'], unit='h')\n",
    "\n",
    "# Selecting features (including the combined datetime column) and MenuItem\n",
    "X = data[['DateTime', 'NumericDate', 'TimeOfDay', 'MenuItem', 'Quantity']]\n",
    "\n",
    "# Filter for a specific date and menu item\n",
    "selected_date = '2023-01-16'  # Replace with your desired date in 'YYYY-MM-DD' format\n",
    "selected_menu_item = 5  # Replace with the menu item you want to plot\n",
    "\n",
    "\n",
    "s_d = X[(X['DateTime'].dt.date == pd.to_datetime(selected_date).date()) & (X['MenuItem'] == selected_menu_item)]\n",
    "# Selecting features for the specific menu item\n",
    "X_d = s_d[['NumericDate', 'TimeOfDay', 'MenuItem']]\n",
    "y_d = s_d['Quantity']\n",
    "\n",
    "\n",
    "X_d_reshaped = X_d.values.reshape(X_d.shape[0], 1, X_d.shape[1])\n",
    "# Predicting for the specific menu item using the already trained model\n",
    "predictions_d = model.predict(X_d_reshaped)\n",
    "\n",
    "selected_data = X[(X['DateTime'].dt.date == pd.to_datetime(selected_date).date()) & (X['MenuItem'] == selected_menu_item)]\n",
    "plt.figure(figsize=(10, 6))\n",
    "plt.plot(selected_data['DateTime'].dt.strftime('%H:%M:%S'), selected_data['Quantity'], marker='o', linestyle='-', label=selected_menu_item)\n",
    "plt.plot(selected_data['DateTime'].dt.strftime('%H:%M:%S'), predictions_d, marker='o', linestyle='-', label=selected_menu_item)\n",
    "plt.xlabel('Date and Time')\n",
    "plt.ylabel('MenuItem')\n",
    "plt.title(f'MenuItem \"{selected_menu_item}\" over Time')\n",
    "plt.legend()\n",
    "plt.xticks(rotation=45)\n",
    "plt.tight_layout()\n",
    "plt.show()\n"
   ]
  },
  {
   "cell_type": "code",
   "execution_count": 60,
   "metadata": {},
   "outputs": [
    {
     "name": "stderr",
     "output_type": "stream",
     "text": [
      "/Users/pramodsaji/miniconda/envs/tensorflow_metal/lib/python3.10/site-packages/keras/src/engine/training.py:3000: UserWarning: You are saving your model as an HDF5 file via `model.save()`. This file format is considered legacy. We recommend using instead the native Keras format, e.g. `model.save('my_model.keras')`.\n",
      "  saving_api.save_model(\n"
     ]
    }
   ],
   "source": [
    "from tensorflow.keras.models import save_model\n",
    "\n",
    "# Save the model\n",
    "model.save(\"adam_50_epochs_tanh.h5\")"
   ]
  }
 ],
 "metadata": {
  "kernelspec": {
   "display_name": "tensorflow_metal",
   "language": "python",
   "name": "python3"
  },
  "language_info": {
   "codemirror_mode": {
    "name": "ipython",
    "version": 3
   },
   "file_extension": ".py",
   "mimetype": "text/x-python",
   "name": "python",
   "nbconvert_exporter": "python",
   "pygments_lexer": "ipython3",
   "version": "3.10.13"
  }
 },
 "nbformat": 4,
 "nbformat_minor": 2
}
